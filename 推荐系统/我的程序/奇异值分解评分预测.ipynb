{
 "cells": [
  {
   "cell_type": "markdown",
   "metadata": {},
   "source": [
    "# 读取数据并划分数据集"
   ]
  },
  {
   "cell_type": "code",
   "execution_count": 1,
   "metadata": {
    "scrolled": true
   },
   "outputs": [
    {
     "name": "stderr",
     "output_type": "stream",
     "text": [
      "加载 ../dataset/ml-latest-small/ratings.csv:  20%|█████▏                    | 20000/100837 [00:00<00:00, 571306.53it/s]\n",
      "加载 ../dataset/ml-latest-small/movies.csv:   0%|                                             | 0/9743 [00:00<?, ?it/s]D:\\python\\anaconda\\envs\\PyTorch\\lib\\site-packages\\pandas\\util\\_decorators.py:311: ParserWarning: Both a converter and dtype were specified for column title - only the converter will be used\n",
      "  return func(*args, **kwargs)\n",
      "加载 ../dataset/ml-latest-small/movies.csv: 100%|█████████████████████████████▉| 9742/9743 [00:00<00:00, 884875.79it/s]"
     ]
    },
    {
     "name": "stdout",
     "output_type": "stream",
     "text": [
      "训练集大小: 16000\n",
      "验证集大小: 2000\n",
      "测试集大小: 2000\n"
     ]
    },
    {
     "name": "stderr",
     "output_type": "stream",
     "text": [
      "\n"
     ]
    }
   ],
   "source": [
    "import numpy as np\n",
    "from tqdm import tqdm\n",
    "import pandas as pd\n",
    "\n",
    "# 加载数据\n",
    "\n",
    "# skiprows=1：跳过文件的第一行，通常是标题。\n",
    "# usecols=(0, 1)：指定要加载的列，这里是第一列和第二列。\n",
    "# converters={1: lambda x: x.decode('utf-8')}：指定对加载的第二列进行特定的转换，这里是将字节对象解码为 UTF-8 编码的字符串。\n",
    "# converters 参数允许您对每一列的数据应用自定义的转换函数。\n",
    "file_path = '../dataset/ml-latest-small/ratings.csv'\n",
    "total_lines = sum(1 for line in open(file_path, encoding='utf-8'))\n",
    "with tqdm(total=total_lines, desc=f'加载 {file_path}') as pbar:\n",
    "    # 三千万个数据太大了，内存放不下，改成5000\n",
    "    # 但是如果取5000还用大矩阵的话就太过稀疏了，所以改成small数据集\n",
    "    data = pd.read_csv(file_path, usecols=(0, 1, 2), dtype=float, encoding='utf-8', converters=None).head(20000)\n",
    "    pbar.update(len(data))\n",
    "ratings_data = data.to_numpy()\n",
    "\n",
    "file_path = '../dataset/ml-latest-small/movies.csv'\n",
    "total_lines = sum(1 for line in open(file_path, encoding='utf-8'))\n",
    "with tqdm(total=total_lines, desc=f'加载 {file_path}') as pbar:\n",
    "    data = pd.read_csv(file_path, usecols=(0, 1), dtype=float, encoding='utf-8', converters={1: lambda x: x})\n",
    "    pbar.update(len(data))\n",
    "movies_data = data.to_numpy()\n",
    "\n",
    "# 假设用户和电影的ID是连续的整数，可以使用unique来获取唯一的用户和电影ID\n",
    "# 这个是评分矩阵维度的参数\n",
    "user_ids = np.unique(ratings_data[:, 0])\n",
    "movie_ids = np.unique(movies_data[:, 0])\n",
    "users_num = user_ids.shape[0]\n",
    "movies_num = movie_ids.shape[0]\n",
    "iter_list = []\n",
    "loss_list = []\n",
    "\n",
    "# 打乱评分矩阵\n",
    "np.random.seed(42)  # 设置随机种子以保持可重复性\n",
    "np.random.shuffle(ratings_data)\n",
    "\n",
    "# 划分数据集\n",
    "train_size = int(0.8 * len(ratings_data))\n",
    "val_size = test_size = (len(ratings_data) - train_size) // 2\n",
    "\n",
    "train_data = ratings_data[:train_size]\n",
    "val_data = ratings_data[train_size:train_size + val_size]\n",
    "test_data = ratings_data[train_size + val_size:]\n",
    "\n",
    "# 打印数据集大小\n",
    "print(\"训练集大小:\", len(train_data))\n",
    "print(\"验证集大小:\", len(val_data))\n",
    "print(\"测试集大小:\", len(test_data))"
   ]
  },
  {
   "cell_type": "code",
   "execution_count": 2,
   "metadata": {},
   "outputs": [
    {
     "name": "stdout",
     "output_type": "stream",
     "text": [
      "132 9742\n",
      "<class 'numpy.float64'> <class 'float'>\n",
      "[ 68.0 , 1729.0 , 3.0 ]\n",
      "[  68. 1729.    3.]\n",
      "[193609.0 'Andrew Dice Clay: Dice Rules (1991)']\n",
      "----------------------------------------\n",
      "[[6.80000e+01 1.72900e+03 3.00000e+00]\n",
      " [1.80000e+01 8.91700e+03 3.50000e+00]\n",
      " [5.90000e+01 1.22400e+03 5.00000e+00]\n",
      " ...\n",
      " [6.80000e+01 1.63000e+02 4.50000e+00]\n",
      " [1.05000e+02 1.34326e+05 4.50000e+00]\n",
      " [3.30000e+01 1.50000e+02 3.00000e+00]]\n",
      "----------------------------------------\n",
      "[[1.1000e+01 4.4000e+01 2.0000e+00]\n",
      " [1.2200e+02 5.2319e+04 4.5000e+00]\n",
      " [5.0000e+01 5.2180e+03 2.0000e+00]\n",
      " ...\n",
      " [2.9000e+01 8.2459e+04 5.0000e+00]\n",
      " [4.5000e+01 5.9400e+02 4.0000e+00]\n",
      " [2.8000e+01 5.6320e+03 3.0000e+00]]\n",
      "----------------------------------------\n",
      "[[2.200e+01 6.711e+03 4.000e+00]\n",
      " [6.800e+01 2.997e+03 4.500e+00]\n",
      " [4.200e+01 2.502e+03 5.000e+00]\n",
      " ...\n",
      " [3.800e+01 1.630e+02 1.000e+00]\n",
      " [6.000e+00 9.810e+02 3.000e+00]\n",
      " [1.030e+02 6.711e+03 5.000e+00]]\n",
      "----------------------------------------\n",
      "[[1.0 'Toy Story (1995)']\n",
      " [2.0 'Jumanji (1995)']\n",
      " [3.0 'Grumpier Old Men (1995)']\n",
      " ...\n",
      " [193585.0 'Flint (2017)']\n",
      " [193587.0 'Bungo Stray Dogs: Dead Apple (2018)']\n",
      " [193609.0 'Andrew Dice Clay: Dice Rules (1991)']]\n"
     ]
    }
   ],
   "source": [
    "print(users_num, movies_num)\n",
    "print(type(train_data[0][0]), type(movies_data[0][0]))\n",
    "print('[', train_data[0][0], ',', train_data[0][1], ',',  train_data[0][2], ']')\n",
    "print(train_data[0])\n",
    "print(movies_data[-1])\n",
    "print('-'*40)\n",
    "print(train_data)\n",
    "print('-'*40)\n",
    "print(val_data)\n",
    "print('-'*40)\n",
    "print(test_data)\n",
    "print('-'*40)\n",
    "print(movies_data)"
   ]
  },
  {
   "cell_type": "markdown",
   "metadata": {},
   "source": [
    "# 进行奇异值分解并训练模型"
   ]
  },
  {
   "cell_type": "code",
   "execution_count": 3,
   "metadata": {},
   "outputs": [],
   "source": [
    "# 构建评分矩阵，users_num行movies_num列，先全部填上NaN，把有评分的部分再做调整\n",
    "\n",
    "def create_R(data_input):\n",
    "    R = np.full((users_num, movies_num), np.nan)\n",
    "\n",
    "    for rating in data_input:\n",
    "        user_id, movie_id, rating_value = rating[0], rating[1], rating[2]\n",
    "        row = user_id - 1\n",
    "        column = np.where(movies_data[:, 0] == movie_id)[0]  # 找到电影的索引\n",
    "        if len(column) > 0:\n",
    "            column = column[0]\n",
    "            R[int(row), int(column)] = rating_value\n",
    "\n",
    "    return R"
   ]
  },
  {
   "cell_type": "code",
   "execution_count": 4,
   "metadata": {},
   "outputs": [],
   "source": [
    "# 进行矩阵分解\n",
    "def matrix_depart_bias(matrix_input, k=5, epochs=1000, lr=0.002, reg=0.02):\n",
    "    # matrix_input 是输入的用户-物品评分矩阵\n",
    "    # k是隐藏特征数量\n",
    "    # epochs是训练轮数\n",
    "    # lr是学习率\n",
    "    # reg是正则化参数\n",
    "    \n",
    "    # 初始化参数\n",
    "    num_users, num_items = matrix_input.shape\n",
    "    epoch_loss = 0\n",
    "    num_rate = 0\n",
    "\n",
    "    # 随机初始化用户矩阵 P 和物品矩阵 Q\n",
    "    P = np.random.rand(num_users, k)\n",
    "    Q = np.random.rand(num_items, k)\n",
    "    \n",
    "    # 初始化用户和物品的偏置项\n",
    "    user_bias = np.zeros(num_users)\n",
    "    item_bias = np.zeros(num_items)\n",
    "    global_bias = np.nanmean(matrix_input)   # 需要忽略NaN值\n",
    "\n",
    "    # 训练模型\n",
    "    for epoch in range(epochs):\n",
    "        for i in range(num_users):\n",
    "            for j in range(num_items):\n",
    "                if not np.isnan(matrix_input[i][j]):\n",
    "                    loss = matrix_input[i][j] - user_bias[i] - item_bias[j] - global_bias - np.dot(P[i], Q[j])\n",
    "                    epoch_loss += loss ** 2\n",
    "                    num_rate += 1\n",
    "                    P[i] += lr * (2 * loss * Q[j] - 2 * reg * P[i])\n",
    "                    Q[j] += lr * (2 * loss * P[i] - 2 * reg * Q[j])\n",
    "                    user_bias[i] += lr * (2 * loss - 2 * reg * user_bias[i])\n",
    "                    item_bias[j] += lr * (2 * loss - 2 * reg * item_bias[j])\n",
    "        epoch_loss /= num_rate\n",
    "        iter_list.append(epoch+1)\n",
    "        loss_list.append(epoch_loss)\n",
    "        \n",
    "        if epoch == 0 or (epoch + 1) % 10 == 0:\n",
    "            print('Epoch:', epoch+1, 'Loss:', epoch_loss)\n",
    "        epoch_loss = 0\n",
    "        num_rate = 0\n",
    "        \n",
    "    return P, Q, user_bias, item_bias, global_bias"
   ]
  },
  {
   "cell_type": "code",
   "execution_count": 5,
   "metadata": {},
   "outputs": [],
   "source": [
    "# 根据训练好的参数完成预测矩阵\n",
    "def predict(P, Q, user_bias, item_bias, global_bias):\n",
    "    # 初始化参数\n",
    "    num_users = P.shape[0]\n",
    "    num_items = Q.shape[0]\n",
    "    \n",
    "    # 初始化一个与评分矩阵相同形状的矩阵，用于存储预测值\n",
    "    predictions = np.zeros((num_users, num_items))\n",
    "\n",
    "    # 遍历所有用户和物品的组合\n",
    "    for i in range(num_users):\n",
    "        for j in range(num_items):\n",
    "            # 计算预测评分\n",
    "            predictions[i, j] = user_bias[i] + item_bias[j] + global_bias + np.dot(P[i], Q[j])\n",
    "\n",
    "    return predictions"
   ]
  },
  {
   "cell_type": "code",
   "execution_count": 6,
   "metadata": {},
   "outputs": [],
   "source": [
    "# 用均方根误差进行评估\n",
    "def evaluate(R, R_pred):\n",
    "    # 初始化参数\n",
    "    num_users, num_items = R.shape\n",
    "    rmse = 0.0\n",
    "    \n",
    "    # 计算 RMSE\n",
    "    num_ratings = 0\n",
    "    for i in range(num_users):\n",
    "        for j in range(num_items):\n",
    "            if not np.isnan(R[i, j]):\n",
    "                rmse += (R[i, j] - R_pred[i, j]) ** 2\n",
    "                num_ratings += 1\n",
    "    rmse = np.sqrt(rmse / num_ratings)\n",
    "\n",
    "    return rmse"
   ]
  },
  {
   "cell_type": "code",
   "execution_count": 7,
   "metadata": {},
   "outputs": [
    {
     "name": "stdout",
     "output_type": "stream",
     "text": [
      "开始训练\n",
      "Epoch: 1 Loss: 1.4263411832222304\n",
      "Epoch: 10 Loss: 0.7655631862096296\n",
      "Epoch: 20 Loss: 0.6953231427010018\n",
      "Epoch: 30 Loss: 0.6439257625133671\n",
      "Epoch: 40 Loss: 0.5948103420277618\n",
      "Epoch: 50 Loss: 0.5439821482950192\n",
      "Epoch: 60 Loss: 0.49278859303049055\n",
      "Epoch: 70 Loss: 0.4449740992279182\n",
      "Epoch: 80 Loss: 0.40338162704524627\n",
      "Epoch: 90 Loss: 0.36871342228112325\n",
      "Epoch: 100 Loss: 0.34026663305990135\n",
      "Epoch: 110 Loss: 0.31689991096453163\n",
      "Epoch: 120 Loss: 0.29754291410652706\n",
      "Epoch: 130 Loss: 0.2813426128286165\n",
      "Epoch: 140 Loss: 0.267651985055297\n",
      "Epoch: 150 Loss: 0.2559807163087346\n",
      "Epoch: 160 Loss: 0.24595103189530335\n",
      "Epoch: 170 Loss: 0.23726665377326395\n",
      "Epoch: 180 Loss: 0.2296922509530526\n",
      "Epoch: 190 Loss: 0.22303947418580086\n",
      "Epoch: 200 Loss: 0.2171568449837553\n",
      "Epoch: 210 Loss: 0.2119220220353932\n",
      "Epoch: 220 Loss: 0.20723572737959325\n",
      "Epoch: 230 Loss: 0.2030169562035002\n",
      "Epoch: 240 Loss: 0.19919921882882372\n",
      "Epoch: 250 Loss: 0.19572760984691492\n",
      "Epoch: 260 Loss: 0.19255652792646097\n",
      "Epoch: 270 Loss: 0.18964789758675366\n",
      "Epoch: 280 Loss: 0.1869697725150845\n",
      "Epoch: 290 Loss: 0.1844952267483509\n",
      "Epoch: 300 Loss: 0.18220146345897129\n",
      "Epoch: 310 Loss: 0.18006909027366536\n",
      "Epoch: 320 Loss: 0.17808152483479725\n",
      "Epoch: 330 Loss: 0.17622450502125386\n",
      "Epoch: 340 Loss: 0.17448568551473675\n",
      "Epoch: 350 Loss: 0.1728543069950887\n",
      "Epoch: 360 Loss: 0.17132092695036946\n",
      "Epoch: 370 Loss: 0.16987720259437106\n",
      "Epoch: 380 Loss: 0.1685157172678657\n",
      "Epoch: 390 Loss: 0.1672298423739277\n",
      "Epoch: 400 Loss: 0.16601362761177843\n",
      "Epoch: 410 Loss: 0.16486171313008563\n",
      "Epoch: 420 Loss: 0.1637692582132586\n",
      "Epoch: 430 Loss: 0.16273188217231405\n",
      "Epoch: 440 Loss: 0.16174561414529298\n",
      "Epoch: 450 Loss: 0.1608068494413027\n",
      "Epoch: 460 Loss: 0.15991231083523114\n",
      "Epoch: 470 Loss: 0.159059013815113\n",
      "Epoch: 480 Loss: 0.1582442352050414\n",
      "Epoch: 490 Loss: 0.15746548485433026\n",
      "Epoch: 500 Loss: 0.15672048022874002\n",
      "Epoch: 510 Loss: 0.15600712379448392\n",
      "Epoch: 520 Loss: 0.15532348308238975\n",
      "Epoch: 530 Loss: 0.1546677732842702\n",
      "Epoch: 540 Loss: 0.15403834218816995\n",
      "Epoch: 550 Loss: 0.1534336572182979\n",
      "Epoch: 560 Loss: 0.15285229431833106\n",
      "Epoch: 570 Loss: 0.15229292840693015\n",
      "Epoch: 580 Loss: 0.15175432514134723\n",
      "Epoch: 590 Loss: 0.15123533374600612\n",
      "Epoch: 600 Loss: 0.15073488069326058\n",
      "Epoch: 610 Loss: 0.15025196405872193\n",
      "Epoch: 620 Loss: 0.14978564840945296\n",
      "Epoch: 630 Loss: 0.14933506011689657\n",
      "Epoch: 640 Loss: 0.14889938301562505\n",
      "Epoch: 650 Loss: 0.14847785435294594\n",
      "Epoch: 660 Loss: 0.14806976099288954\n",
      "Epoch: 670 Loss: 0.14767443585156914\n",
      "Epoch: 680 Loss: 0.14729125454992573\n",
      "Epoch: 690 Loss: 0.14691963227559426\n",
      "Epoch: 700 Loss: 0.1465590208484266\n",
      "Epoch: 710 Loss: 0.14620890598537814\n",
      "Epoch: 720 Loss: 0.145868804760244\n",
      "Epoch: 730 Loss: 0.14553826325280397\n",
      "Epoch: 740 Loss: 0.14521685438073126\n",
      "Epoch: 750 Loss: 0.1449041759063172\n",
      "Epoch: 760 Loss: 0.14459984860882738\n",
      "Epoch: 770 Loss: 0.14430351461246735\n",
      "Epoch: 780 Loss: 0.14401483585917213\n",
      "Epoch: 790 Loss: 0.14373349271517183\n",
      "Epoch: 800 Loss: 0.1434591827001837\n",
      "Epoch: 810 Loss: 0.14319161932829633\n",
      "Epoch: 820 Loss: 0.14293053105000736\n",
      "Epoch: 830 Loss: 0.14267566028546194\n",
      "Epoch: 840 Loss: 0.14242676253961317\n",
      "Epoch: 850 Loss: 0.14218360559081192\n",
      "Epoch: 860 Loss: 0.14194596874505494\n",
      "Epoch: 870 Loss: 0.14171364214901344\n",
      "Epoch: 880 Loss: 0.14148642615562654\n",
      "Epoch: 890 Loss: 0.1412641307368193\n",
      "Epoch: 900 Loss: 0.1410465749385721\n",
      "Epoch: 910 Loss: 0.14083358637411228\n",
      "Epoch: 920 Loss: 0.14062500075162976\n",
      "Epoch: 930 Loss: 0.14042066143325424\n",
      "Epoch: 940 Loss: 0.14022041902259483\n",
      "Epoch: 950 Loss: 0.14002413097835092\n",
      "Epoch: 960 Loss: 0.13983166125189106\n",
      "Epoch: 970 Loss: 0.13964287994691785\n",
      "Epoch: 980 Loss: 0.13945766299955414\n",
      "Epoch: 990 Loss: 0.13927589187735726\n",
      "Epoch: 1000 Loss: 0.13909745329594678\n",
      "训练结束\n"
     ]
    }
   ],
   "source": [
    "# 训练\n",
    "matrix_train = create_R(train_data)\n",
    "print('开始训练')\n",
    "train_P, train_Q, train_user_bias, train_item_bias, train_global_bias = matrix_depart_bias(matrix_train)\n",
    "print('训练结束')\n",
    "P_pred = predict(train_P, train_Q, train_user_bias, train_item_bias, train_global_bias)"
   ]
  },
  {
   "cell_type": "code",
   "execution_count": 8,
   "metadata": {},
   "outputs": [
    {
     "name": "stdout",
     "output_type": "stream",
     "text": [
      "验证集上的均方误差为： 1.126653868556443\n"
     ]
    }
   ],
   "source": [
    "# 验证集上进行验证\n",
    "R_val = create_R(val_data)\n",
    "rmse_val = evaluate(R_val, P_pred)\n",
    "print(\"验证集上的均方误差为：\", rmse_val)"
   ]
  },
  {
   "cell_type": "code",
   "execution_count": 10,
   "metadata": {},
   "outputs": [
    {
     "name": "stdout",
     "output_type": "stream",
     "text": [
      "测试集上的均方误差为： 1.1140100433846176\n"
     ]
    }
   ],
   "source": [
    "# 测试集上测试\n",
    "R_test = create_R(test_data)\n",
    "rmse_test = evaluate(R_test, P_pred)\n",
    "print(\"测试集上的均方误差为：\", rmse_test)"
   ]
  },
  {
   "cell_type": "code",
   "execution_count": 11,
   "metadata": {},
   "outputs": [
    {
     "data": {
      "image/png": "[encoded data removed]",
      "text/plain": [
       "<Figure size 640x480 with 1 Axes>"
      ]
     },
     "metadata": {},
     "output_type": "display_data"
    }
   ],
   "source": [
    "import matplotlib.pyplot as plt\n",
    "\n",
    "plt.plot(iter_list, loss_list)\n",
    "plt.xlabel('Epoch')\n",
    "plt.ylabel('Loss')\n",
    "plt.show()"
   ]
  },
  {
   "cell_type": "code",
   "execution_count": null,
   "metadata": {},
   "outputs": [],
   "source": []
  }
 ],
 "metadata": {
  "kernelspec": {
   "display_name": "PyTorch",
   "language": "python",
   "name": "pytorch"
  },
  "language_info": {
   "codemirror_mode": {
    "name": "ipython",
    "version": 3
   },
   "file_extension": ".py",
   "mimetype": "text/x-python",
   "name": "python",
   "nbconvert_exporter": "python",
   "pygments_lexer": "ipython3",
   "version": "3.8.17"
  }
 },
 "nbformat": 4,
 "nbformat_minor": 2
}
